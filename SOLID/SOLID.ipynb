{
 "cells": [
  {
   "cell_type": "markdown",
   "id": "20dbf07e-ff31-4ce5-b9d9-87d824b5ee7e",
   "metadata": {},
   "source": [
    "# SOLID Python"
   ]
  },
  {
   "cell_type": "markdown",
   "id": "f0416267-683b-44ce-80b7-daffd8b71a19",
   "metadata": {},
   "source": [
    "## S - Принцип единственной ответственности (Single Responsibility Principle)"
   ]
  },
  {
   "cell_type": "markdown",
   "id": "2ae61438-19d8-4261-b579-8fcb46823207",
   "metadata": {},
   "source": [
    "### The Signle Responsibility Principle states that each class shoud have\n",
    "### only one \"responsibility\" and should not take on other responsibilities"
   ]
  },
  {
   "cell_type": "code",
   "execution_count": 3,
   "id": "6484f79f-dbbd-49c0-8d5e-d7cca484f207",
   "metadata": {},
   "outputs": [],
   "source": [
    "# Lest's create TelephoneDirectory class\n",
    "class TelephoneDirectory:\n",
    "    def __init__(self):\n",
    "        self.telephoneDirectory = {}\n",
    "        \n",
    "    def add_entry(self, name, number):\n",
    "        self.telephoneDirectory[name] = number\n",
    "    \n",
    "    def delete_entry(self, name):\n",
    "        self.telephoneDirectory.pop(name)\n",
    "        \n",
    "    def update_entry(self, name, number):\n",
    "        self.telephoneDirectory[name] = number\n",
    "        \n",
    "    def lookup_number(self, name):\n",
    "        return self.telephoneDirectory[name]\n",
    "        \n",
    "    def __str__(self):\n",
    "        toStr = \"\"\n",
    "        for key, value in self.telephoneDirectory.items():\n",
    "            toStr += f\"{key} : {value}\\n\"\n",
    "        return toStr"
   ]
  },
  {
   "cell_type": "code",
   "execution_count": 4,
   "id": "f33b2c23-1f90-4cda-85be-d263876235e4",
   "metadata": {},
   "outputs": [
    {
     "name": "stdout",
     "output_type": "stream",
     "text": [
      "Alex : 1234\n",
      "Victor : 54321\n",
      "\n",
      "99999\n",
      "Victor : 99999\n",
      "Nick : 12345\n",
      "\n"
     ]
    }
   ],
   "source": [
    "mtd = TelephoneDirectory()\n",
    "mtd.add_entry(\"Alex\", 1234)\n",
    "mtd.add_entry(\"Victor\", 54321)\n",
    "print(mtd)\n",
    "\n",
    "mtd.delete_entry(\"Alex\")\n",
    "mtd.add_entry(\"Nick\", 12345)\n",
    "mtd.update_entry(\"Victor\", 99999)\n",
    "print(mtd.lookup_number(\"Victor\"))\n",
    "print(mtd)"
   ]
  },
  {
   "cell_type": "markdown",
   "id": "ac794261-1987-4a7b-bc5c-77a73cc29cbc",
   "metadata": {},
   "source": [
    "Ad two new methods to class. \n",
    "1. Save all data to data base\n",
    "2. Pass all data to file"
   ]
  },
  {
   "cell_type": "code",
   "execution_count": null,
   "id": "243b2f5e-7529-4693-ac2d-45ab1af3aa38",
   "metadata": {},
   "outputs": [],
   "source": [
    "class TelephoneDirectory:\n",
    "    def __init__(self):\n",
    "        self.telephoneDirectory = {}\n",
    "        \n",
    "    def add_entry(self, name, number):\n",
    "        self.telephoneDirectory[name] = number\n",
    "    \n",
    "    def delete_entry(self, name):\n",
    "        self.telephoneDirectory.pop(name)\n",
    "        \n",
    "    def update_entry(self, name, number):\n",
    "        self.telephoneDirectory[name] = number\n",
    "        \n",
    "    def lookup_number(self, name):\n",
    "        return self.telephoneDirectory[name]\n",
    "    \n",
    "    def save_to_file(self, file_name, location):\n",
    "        pass\n",
    "    \n",
    "    def persist_to_database(self, database_info):\n",
    "        pass\n",
    "        \n",
    "    def __str__(self):\n",
    "        toStr = \"\"\n",
    "        for key, value in self.telephoneDirectory.items():\n",
    "            toStr += f\"{key} : {value}\\n\"\n",
    "        return toStr"
   ]
  },
  {
   "cell_type": "markdown",
   "id": "02135084-13bb-44d4-8989-f07f9a26b959",
   "metadata": {},
   "source": [
    "So, right now we have violated the principle of signle responsibility.\n",
    "By adding **save_to_database** and **save_to_file methods**, we have given the class\n",
    "additional responsibility. Now the class has additional functions that can lead to its change"
   ]
  },
  {
   "cell_type": "code",
   "execution_count": null,
   "id": "2d6569ee-961f-47db-9422-f9e2c43ca98c",
   "metadata": {},
   "outputs": [],
   "source": [
    "class TelephoneDirectory:\n",
    "    def __init__(self):\n",
    "        self.telephoneDirectory = {}\n",
    "        \n",
    "    def add_entry(self, name, number):\n",
    "        self.telephoneDirectory[name] = number\n",
    "    \n",
    "    def delete_entry(self, name):\n",
    "        self.telephoneDirectory.pop(name)\n",
    "        \n",
    "    def update_entry(self, name, number):\n",
    "        self.telephoneDirectory[name] = number\n",
    "        \n",
    "    def lookup_number(self, name):\n",
    "        return self.telephoneDirectory[name]\n",
    "        \n",
    "    def __str__(self):\n",
    "        toStr = \"\"\n",
    "        for key, value in self.telephoneDirectory.items():\n",
    "            toStr += f\"{key} : {value}\\n\"\n",
    "        return toStr\n",
    "    \n",
    "class PersistToDatabase:\n",
    "    def __init__(self, object_to_persist):\n",
    "        pass\n",
    "\n",
    "class SaveToFile:\n",
    "    def __init__(self, object_to_save):\n",
    "        pass"
   ]
  },
  {
   "cell_type": "markdown",
   "id": "77b5dcf4-d7f9-4d28-9512-49d55fbabe36",
   "metadata": {},
   "source": [
    "## O - Принцип открытости/закрытости (Open‐Closed Principle)"
   ]
  },
  {
   "cell_type": "markdown",
   "id": "8fc28cc9-65d6-483b-bd2d-03b7f59474ee",
   "metadata": {},
   "source": [
    "The most important principle of **openness/closedness** is\n",
    "\n",
    "**\"Program entities (class, modules, methods, etc.) should be\n",
    "open for extensions, but closed for changes\".**"
   ]
  },
  {
   "cell_type": "code",
   "execution_count": null,
   "id": "7d544d05-238c-4355-836a-bfc1c52e1b29",
   "metadata": {},
   "outputs": [],
   "source": [
    "from enum import Enum\n",
    "class Products(Enum):\n",
    "    SHIRT = 1\n",
    "    TSHIRT = 2\n",
    "    PANT = 3\n",
    "    \n",
    "class DiscountCalculator():\n",
    "    def __init__(self, product_type, cost):\n",
    "        self.product_type = product_type\n",
    "        self.cost = cost\n",
    "    \n",
    "    def get_discounted_price(self):\n",
    "        if self.product_type == Products.SHIRT:\n",
    "            return self.cost - (self.cost * 0.10)\n",
    "        elif self.product_type == Products.TSHIRT:\n",
    "            return self.cost - (self.cost * 0.15)\n",
    "        elif self.product_type == Products.PANT:\n",
    "            return self.cost - (self.cost * 0.25)\n",
    "\n",
    "dc_Shirt = DiscountCalculator(Products.SHIRT, 100)\n",
    "print(dc_Shirt.get_discounted_price())\n",
    "\n",
    "dc_TShirt = DiscountCalculator(Products.TSHIRT, 100)\n",
    "print(dc_TShirt.get_discounted_price())\n",
    "\n",
    "dc_Pant = DiscountCalculator(Products.PANT, 100)\n",
    "print(dc_Pant.get_discounted_price())"
   ]
  },
  {
   "cell_type": "markdown",
   "id": "6ac73ce1-bf8c-43d5-8f90-4f2deb27c45a",
   "metadata": {
    "tags": []
   },
   "source": [
    "This class violates the **open/closed principle**, as this class will need\n",
    "to change if any type of clothing is added or if the discount amount for any\n",
    "clothing changes."
   ]
  },
  {
   "cell_type": "code",
   "execution_count": null,
   "id": "64a13576-05d4-4f98-be29-80c6f5b0b13b",
   "metadata": {},
   "outputs": [],
   "source": [
    "from enum import Enum\n",
    "from abc import ABCMeta, abstractmethod\n",
    "\n",
    "class DiscountCalculator():\n",
    "    \n",
    "    @abstractmethod\n",
    "    def get_discounted_price(slef):\n",
    "        pass\n",
    "    \n",
    "class DiscountCalculatorShirt(DiscountCalculator):\n",
    "    def __init__(self, cost):\n",
    "        self.cost = cost\n",
    "    \n",
    "    def get_discounted_price(self):\n",
    "        return self.cost - (self.cost * 0.10)\n",
    "\n",
    "class DiscountCalculatorTShirt(DiscountCalculator):\n",
    "    def __init__(self, cost):\n",
    "        self.cost = cost\n",
    "    \n",
    "    def get_discounted_price(self):\n",
    "        return self.cost - (self.cost * 0.15)\n",
    "    \n",
    "class DiscountCalculatorPant(DiscountCalculator):\n",
    "    def __init__(self, cost):\n",
    "        self.cost = cost\n",
    "    \n",
    "    def get_discounted_price(self):\n",
    "        return self.cost - (self.cost * 0.25)\n",
    "    \n",
    "dc_Shirt = DiscountCalculatorShirt(100)\n",
    "print(dc_Shirt.get_discounted_price())\n",
    "\n",
    "dc_TShirt = DiscountCalculatorTShirt(100)\n",
    "print(dc_TShirt.get_discounted_price())\n",
    "\n",
    "dc_Pant = DiscountCalculatorPant(100)\n",
    "print(dc_Pant.get_discounted_price())"
   ]
  },
  {
   "cell_type": "markdown",
   "id": "c3191e52-f1ef-40eb-815b-ab743039dd3a",
   "metadata": {},
   "source": [
    "## L – Принцип подстановки Барбары Лисков (Liskov Substitution Principle)"
   ]
  },
  {
   "cell_type": "markdown",
   "id": "6867d9d3-0a1c-47b5-b89a-0fb6b018bbe7",
   "metadata": {},
   "source": [
    "The Liskov Substitution Principle states:\n",
    "\n",
    "**\"Object in a program must be replaced by instance of their subtypes\n",
    "without compromising the correctness of the program\"**"
   ]
  },
  {
   "cell_type": "code",
   "execution_count": 5,
   "id": "02397fb7-f4e9-4f8e-bf65-8e4d89fa5b99",
   "metadata": {},
   "outputs": [
    {
     "name": "stdout",
     "output_type": "stream",
     "text": [
      "{'Color': 'Red', 'Gear': 'Auto', 'Capacity': 6}\n",
      "('Blue', 'Manual', 4)\n"
     ]
    }
   ],
   "source": [
    "# Liskov Substitution Principle\n",
    "class Car():\n",
    "    def __init__(self, type):\n",
    "        self.type = type\n",
    "        \n",
    "class PetrolCar(Car):\n",
    "    def __init__(self, type):\n",
    "        self.type = type\n",
    "\n",
    "car = Car(\"SUV\")\n",
    "car.properties = {\n",
    "    \"Color\": \"Red\",\n",
    "    \"Gear\": \"Auto\",\n",
    "    \"Capacity\": 6\n",
    "}\n",
    "print(car.properties)\n",
    "\n",
    "petrol_car = PetrolCar(\"Sedan\")\n",
    "petrol_car.properties = (\"Blue\", \"Manual\", 4)\n",
    "print(petrol_car.properties)"
   ]
  },
  {
   "cell_type": "markdown",
   "id": "6db35d50-3ab0-4cb0-a9cc-eb9f8fb37792",
   "metadata": {},
   "source": [
    "As we can see here, there is no standart specification for adding\n",
    "Car properties, and it is up to developers to implement it in their\n",
    "own way. One developer might implement it as a dictionary and another\n",
    "as a tuple. Thus, it can be implemented in several ways\n",
    "\n",
    "So far there are no probles. Mut let's assume that there is a task to find all red cars.\n",
    "Let's try to write a method that takes all the cars and tries to find all the red ones\n",
    "by implementing an object of the superclass Car"
   ]
  },
  {
   "cell_type": "code",
   "execution_count": 6,
   "id": "f4b2f077-6967-4384-8bb4-eefb2b40c588",
   "metadata": {},
   "outputs": [
    {
     "name": "stdout",
     "output_type": "stream",
     "text": [
      "{'Color': 'Red', 'Gear': 'Auto', 'Capacity': 6}\n",
      "('Blue', 'Manual', 4)\n"
     ]
    },
    {
     "ename": "TypeError",
     "evalue": "tuple indices must be integers or slices, not str",
     "output_type": "error",
     "traceback": [
      "\u001b[0;31m---------------------------------------------------------------------------\u001b[0m",
      "\u001b[0;31mTypeError\u001b[0m                                 Traceback (most recent call last)",
      "\u001b[1;32m/home/rootnad/PythonClasses/OOP/SOLID.ipynb Ячейка 19\u001b[0m in \u001b[0;36m<cell line: 31>\u001b[0;34m()\u001b[0m\n\u001b[1;32m     <a href='vscode-notebook-cell:/home/rootnad/PythonClasses/OOP/SOLID.ipynb#X24sZmlsZQ%3D%3D?line=27'>28</a>\u001b[0m             red_cars \u001b[39m+\u001b[39m\u001b[39m=\u001b[39m \u001b[39m1\u001b[39m\n\u001b[1;32m     <a href='vscode-notebook-cell:/home/rootnad/PythonClasses/OOP/SOLID.ipynb#X24sZmlsZQ%3D%3D?line=28'>29</a>\u001b[0m     \u001b[39mprint\u001b[39m(\u001b[39mf\u001b[39m\u001b[39m\"\u001b[39m\u001b[39mNumber of Red Cars = \u001b[39m\u001b[39m{\u001b[39;00mred_cars\u001b[39m}\u001b[39;00m\u001b[39m\"\u001b[39m)\n\u001b[0;32m---> <a href='vscode-notebook-cell:/home/rootnad/PythonClasses/OOP/SOLID.ipynb#X24sZmlsZQ%3D%3D?line=30'>31</a>\u001b[0m find_red_cars(cars)\n",
      "\u001b[1;32m/home/rootnad/PythonClasses/OOP/SOLID.ipynb Ячейка 19\u001b[0m in \u001b[0;36mfind_red_cars\u001b[0;34m(cars)\u001b[0m\n\u001b[1;32m     <a href='vscode-notebook-cell:/home/rootnad/PythonClasses/OOP/SOLID.ipynb#X24sZmlsZQ%3D%3D?line=24'>25</a>\u001b[0m red_cars \u001b[39m=\u001b[39m \u001b[39m0\u001b[39m\n\u001b[1;32m     <a href='vscode-notebook-cell:/home/rootnad/PythonClasses/OOP/SOLID.ipynb#X24sZmlsZQ%3D%3D?line=25'>26</a>\u001b[0m \u001b[39mfor\u001b[39;00m car \u001b[39min\u001b[39;00m cars:\n\u001b[0;32m---> <a href='vscode-notebook-cell:/home/rootnad/PythonClasses/OOP/SOLID.ipynb#X24sZmlsZQ%3D%3D?line=26'>27</a>\u001b[0m     \u001b[39mif\u001b[39;00m car\u001b[39m.\u001b[39;49mproperties[\u001b[39m\"\u001b[39;49m\u001b[39mColor\u001b[39;49m\u001b[39m\"\u001b[39;49m] \u001b[39m==\u001b[39m \u001b[39m\"\u001b[39m\u001b[39mRed\u001b[39m\u001b[39m\"\u001b[39m:\n\u001b[1;32m     <a href='vscode-notebook-cell:/home/rootnad/PythonClasses/OOP/SOLID.ipynb#X24sZmlsZQ%3D%3D?line=27'>28</a>\u001b[0m         red_cars \u001b[39m+\u001b[39m\u001b[39m=\u001b[39m \u001b[39m1\u001b[39m\n\u001b[1;32m     <a href='vscode-notebook-cell:/home/rootnad/PythonClasses/OOP/SOLID.ipynb#X24sZmlsZQ%3D%3D?line=28'>29</a>\u001b[0m \u001b[39mprint\u001b[39m(\u001b[39mf\u001b[39m\u001b[39m\"\u001b[39m\u001b[39mNumber of Red Cars = \u001b[39m\u001b[39m{\u001b[39;00mred_cars\u001b[39m}\u001b[39;00m\u001b[39m\"\u001b[39m)\n",
      "\u001b[0;31mTypeError\u001b[0m: tuple indices must be integers or slices, not str"
     ]
    }
   ],
   "source": [
    "# Breaking - Liskov Substitution Principle\n",
    "class Car():\n",
    "    def __init__(self, type):\n",
    "        self.type = type\n",
    "    \n",
    "class PetrolCar(Car):\n",
    "    def __init___(self, type):\n",
    "        self.type = type\n",
    "\n",
    "car = Car(\"SUV\")\n",
    "car.properties = {\n",
    "    \"Color\": \"Red\",\n",
    "    \"Gear\": \"Auto\",\n",
    "    \"Capacity\": 6\n",
    "}\n",
    "print(car.properties)\n",
    "\n",
    "petrol_car = PetrolCar(\"Sedan\")\n",
    "petrol_car.properties = (\"Blue\", \"Manual\", 4)\n",
    "print(petrol_car.properties)\n",
    "\n",
    "cars = [car, petrol_car]\n",
    "\n",
    "def find_red_cars(cars):\n",
    "    red_cars = 0\n",
    "    for car in cars:\n",
    "        if car.properties[\"Color\"] == \"Red\":\n",
    "            red_cars += 1\n",
    "    print(f\"Number of Red Cars = {red_cars}\")\n",
    "    \n",
    "find_red_cars(cars)"
   ]
  },
  {
   "cell_type": "markdown",
   "id": "8cb925a9-d9a1-47df-b0bc-025d01fc72aa",
   "metadata": {},
   "source": [
    "### Better option would be to implement the setter and getter methods in\n",
    "### the Car superclass. With their help, we can set and get the properties\n",
    "### of the car without leaving this implementation to subsequent developers.\n",
    "### So we just get the properties with the setter method and its implementation \n",
    "### remains encapsulated in the superclass"
   ]
  },
  {
   "cell_type": "code",
   "execution_count": 7,
   "id": "727e8e6d-b848-4ebe-b18d-6a0944dcbf88",
   "metadata": {},
   "outputs": [
    {
     "name": "stdout",
     "output_type": "stream",
     "text": [
      "Number of Red Cars = 1\n"
     ]
    }
   ],
   "source": [
    "class Car():\n",
    "    def __init__(self, type):\n",
    "        self.type = type\n",
    "        self.car_properties = {}\n",
    "        \n",
    "    def set_properties(self, color, gear, capacity):\n",
    "        self.car_properties = {\n",
    "            \"Color\": color,\n",
    "            \"Gear\": gear,\n",
    "            \"Capacity\": capacity\n",
    "        }\n",
    "    \n",
    "    def get_properties(self):\n",
    "        return self.car_properties\n",
    "\n",
    "class PetrolCar(Car):\n",
    "    def __init__(self, type):\n",
    "        self.type = type\n",
    "        self.car_properties = {}\n",
    "\n",
    "        \n",
    "car = Car(\"Suv\")\n",
    "car.set_properties(\"Red\", \"Auto\", 6)\n",
    "\n",
    "petrol_car = PetrolCar(\"Sedan\")\n",
    "petrol_car.set_properties(\"Blue\", \"Manual\", 4)\n",
    "\n",
    "cars = [car, petrol_car]\n",
    "\n",
    "def find_red_cars(cars):\n",
    "    red_cars = 0\n",
    "    for car in cars:\n",
    "        if car.get_properties()[\"Color\"] == \"Red\":\n",
    "            red_cars += 1\n",
    "    print(f\"Number of Red Cars = {red_cars}\")\n",
    "    \n",
    "find_red_cars(cars)"
   ]
  },
  {
   "cell_type": "markdown",
   "id": "c181a1c1-ce2b-461b-ac99-95ab0d61e3d3",
   "metadata": {},
   "source": [
    "## I – Принцип разделения интерфейсов (Interface Segregation Principle)"
   ]
  },
  {
   "cell_type": "markdown",
   "id": "72079377-9188-4dc5-b20f-8b205d587409",
   "metadata": {},
   "source": [
    "The separation of Interfaces principle states that \"No client should depend on methods it does not use\". The principle of separation of interfaces involves the creation of small interfaces, known as **role interfaces**, instead of a large interface consisting of several methods. By separating methods by role into smaller interfaces, clients will only depend on the methods that are relevant to them."
   ]
  },
  {
   "cell_type": "code",
   "execution_count": null,
   "id": "9367001c-ea88-45e0-9d92-5f77a9e88074",
   "metadata": {},
   "outputs": [],
   "source": [
    "# Inteface Substition Principle - Incororect Implementation\n",
    "from abc import abstractmethod\n",
    "class CommunicationDevice():\n",
    "    @abstractmethod\n",
    "    def make_calls(): ...\n",
    "    \n",
    "    @abstractmethod\n",
    "    def send_sms(): ...\n",
    "    \n",
    "    @abstractmethod\n",
    "    def browse_internet(): ...\n",
    "\n",
    "class SmartPhone(CommunicationDevice):\n",
    "    def make_calls():\n",
    "        # implementation\n",
    "        pass\n",
    "    \n",
    "    def send_sms():\n",
    "        # implementation\n",
    "        pass\n",
    "        \n",
    "    def browse_internet():\n",
    "        # implementation\n",
    "        pass\n",
    "    \n",
    "class LendlinePhone(CommunicationDevice):\n",
    "    def make_calls():\n",
    "        # implementation\n",
    "        pass\n",
    "    \n",
    "    def send_sms():\n",
    "        # pass or raise Exception\n",
    "        pass\n",
    "        \n",
    "    def browse_internet():\n",
    "        # pass or raise Exception\n",
    "        pass"
   ]
  },
  {
   "cell_type": "code",
   "execution_count": null,
   "id": "35823629-5c48-456a-833f-9e2b6ecd8e9f",
   "metadata": {},
   "outputs": [],
   "source": [
    "from abc import ABC, abstractmethod\n",
    "# Inteface Substition Principle - Cororect Implementation\n",
    "\n",
    "class CallingDevice():\n",
    "    @abstractmethod\n",
    "    def make_calls():\n",
    "        pass\n",
    "    \n",
    "class MessagingDevice():\n",
    "    @abstractmethod\n",
    "    def send_sms():\n",
    "        pass\n",
    "    \n",
    "class InternetBrowsingDevice():\n",
    "    @abstractmethod\n",
    "    def browse_internet():\n",
    "        pass\n",
    "\n",
    "class SmartPhone(CallingDevice, MessagingDevice, InternetBrowsingDevice):\n",
    "    def make_calls():\n",
    "        # implementation\n",
    "        pass\n",
    "    \n",
    "    def send_sms():\n",
    "        # implementation\n",
    "        pass\n",
    "        \n",
    "    def browse_internet():\n",
    "        # implementation\n",
    "        pass\n",
    "    \n",
    "class LandlinePhone(CallingDevice):\n",
    "    def make_calls():\n",
    "        # implementation\n",
    "        pass"
   ]
  },
  {
   "cell_type": "markdown",
   "id": "ee6992e4-5d31-4b4a-9fb8-22bde89553f8",
   "metadata": {},
   "source": [
    "## D – Принцип инверсии зависимостей (Dependency Inversion Principle)"
   ]
  },
  {
   "cell_type": "markdown",
   "id": "01355462-0e26-44ab-9072-db95d1b4f385",
   "metadata": {},
   "source": [
    "The Dependency Inversion Principle states:\n",
    "\n",
    "**1: The high level module should not depend on the low level modules. Both must depend on abstractions.**\n",
    "\n",
    "**2: Abstractions should not depend on implementation details. Implementation details should  depend on abstractions.**\n"
   ]
  },
  {
   "cell_type": "markdown",
   "id": "30c2fcad-b086-466f-b5dc-9e699b214eea",
   "metadata": {},
   "source": [
    "### NOTE\n",
    "### If your code already implements the principles of open/closed and Liskov substitution, it will already be implicitly consistent with the principle of dependency inversion."
   ]
  },
  {
   "cell_type": "code",
   "execution_count": 9,
   "id": "1846771f-bd64-4100-afdf-8a02169e526d",
   "metadata": {},
   "outputs": [
    {
     "name": "stdout",
     "output_type": "stream",
     "text": [
      "Archie is in RED team\n"
     ]
    },
    {
     "data": {
      "text/plain": [
       "<__main__.Analysis at 0x7fd2c021ec20>"
      ]
     },
     "execution_count": 9,
     "metadata": {},
     "output_type": "execute_result"
    }
   ],
   "source": [
    "# # Dependency Inverion Principle - Incorrect implementation\n",
    "# from enum import Enum\n",
    "# from abc import ABCMeta, abstractmethod\n",
    "\n",
    "# class Teams(Enum):\n",
    "#     BLUE_TEAM = 1\n",
    "#     RED_TEAM = 2\n",
    "#     GREEN_TEAM = 3\n",
    "\n",
    "# class Student:\n",
    "#     def __init__(self, name):\n",
    "#         self.name = name\n",
    "\n",
    "# class TeamMemberships():\n",
    "#     def __init__(self):\n",
    "#         self.team_memberships = []\n",
    "\n",
    "#     def add_team_memberships(self, student, team):\n",
    "#         self.team_memberships.append((student, team))\n",
    "\n",
    "# class Analysis():\n",
    "#     def __init__(self, team_student_memberships):\n",
    "#         memberships = team_student_memberships.team_memberships\n",
    "#         for members in memberships:\n",
    "#             if members[1] == Teams.RED_TEAM:\n",
    "#                 print(f'{members[0].name} is in RED team')\n",
    "\n",
    "# student1 = Student('Ravi')\n",
    "# student2 = Student('Archie')\n",
    "# student3 = Student('James')\n",
    "\n",
    "# team_memberships = TeamMemberships()\n",
    "# team_memberships.add_team_memberships(student1, Teams.BLUE_TEAM)\n",
    "# team_memberships.add_team_memberships(student2, Teams.RED_TEAM)\n",
    "# team_memberships.add_team_memberships(student3, Teams.GREEN_TEAM)\n",
    "\n",
    "# Analysis(team_memberships)\n",
    "\n",
    "# Dependency Inversion Principle - Incorrect Implementation\n",
    "from enum import Enum\n",
    "from abc import ABCMeta, abstractmethod\n",
    "\n",
    "\n",
    "class Teams(Enum):\n",
    "    BLUE_TEAM = 1\n",
    "    RED_TEAM = 2\n",
    "    GREEN_TEAM = 3\n",
    "\n",
    "\n",
    "class Student:\n",
    "    def __init__(self, name):\n",
    "        self.name = name\n",
    "\n",
    "\n",
    "class TeamMemberships():\n",
    "    def __init__(self):\n",
    "        self.team_memberships = []\n",
    "\n",
    "    def add_team_memberships(self, student, team):\n",
    "        self.team_memberships.append((student, team))\n",
    "\n",
    "\n",
    "class Analysis():\n",
    "    def __init__(self, team_student_memberships):\n",
    "        memberships = team_student_memberships.team_memberships\n",
    "        for members in memberships:\n",
    "            if members[1] == Teams.RED_TEAM:\n",
    "                print(f'{members[0].name} is in RED team')\n",
    "\n",
    "\n",
    "student1 = Student('Ravi')\n",
    "student2 = Student('Archie')\n",
    "student3 = Student('James')\n",
    "\n",
    "team_memberships = TeamMemberships()\n",
    "team_memberships.add_team_memberships(student1, Teams.BLUE_TEAM)\n",
    "team_memberships.add_team_memberships(student2, Teams.RED_TEAM)\n",
    "team_memberships.add_team_memberships(student3, Teams.GREEN_TEAM)\n",
    "\n",
    "Analysis(team_memberships)\n"
   ]
  },
  {
   "cell_type": "markdown",
   "id": "c339bc86-9d39-44d6-aafe-317c3321ccb4",
   "metadata": {},
   "source": [
    "As you can see from the implementation, we directly use **team_student_memberships.team_memberships** in the high-level **Analysis** class,\n",
    "and we use the implementation of this list directly in the high-level class.\n",
    "Everything is fine for now, but imagine a situation where we need to change this\n",
    "implementation from a list to something else. In this case, our high-level \n",
    "**Analysis** class will break as it depends on the implementation details of the low-level **TeamMemberships**"
   ]
  },
  {
   "cell_type": "code",
   "execution_count": null,
   "id": "2e676af5-a585-4a14-a790-46cfa992a842",
   "metadata": {},
   "outputs": [],
   "source": [
    "# Dependency Inversion Principle - Correct Implementation\n",
    "from enum import Enum\n",
    "from abc import ABCMeta, abstractmethod\n",
    "\n",
    "class Teams(Enum):\n",
    "    BLUE_TEAM = 1\n",
    "    RED_TEAM = 2\n",
    "    GREEN_TEAM = 3\n",
    "    \n",
    "class TeamMembershipLookup():\n",
    "    @abstractmethod\n",
    "    def find_all_students_of_team(self, team):\n",
    "        pass\n",
    "    \n",
    "class Student():\n",
    "    def __init__(self, name):\n",
    "        self.name = name\n",
    "        \n",
    "class TeamMembership(TeamMembershipLookup):\n",
    "    def __init__(self):\n",
    "        self.team_membership = []\n",
    "        \n",
    "    def add_team_membership(self, student, team):\n",
    "        self.team_membership.append((student, team))\n",
    "        \n",
    "    def find_all_students_of_team(self, team):\n",
    "        for member in self.team_membership:\n",
    "            if member[1] == team:\n",
    "                yield member[0].name\n",
    "                \n",
    "class Analysis():\n",
    "    def __init__(self, team_membership_lookup):\n",
    "        for student in team_membership_lookup.find_all_students_of_team(Teams.RED_TEAM):\n",
    "            print(f\"{student} is in RED team\")\n",
    "            \n",
    "student1 = Student(\"Alex\")\n",
    "student2 = Student(\"Nick\")\n",
    "student3 = Student(\"James\")\n",
    "\n",
    "\n",
    "team_membership = TeamMembership()\n",
    "team_membership.add_team_membership(student1, Teams.BLUE_TEAM)\n",
    "team_membership.add_team_membership(student2, Teams.RED_TEAM)\n",
    "team_membership.add_team_membership(student3, Teams.GREEN_TEAM)\n",
    "\n",
    "Analysis(team_membership)"
   ]
  },
  {
   "cell_type": "markdown",
   "id": "c1a8ac1e-d7c4-4678-9581-b71ec168a9c5",
   "metadata": {},
   "source": [
    "So, we created the interface **TeamMembershipLookup**, which contains the abstract\n",
    "method **find_all_students_of_team**, which is passed to any class that inherits this interface.\n",
    "We inherit out **TeamMembership** class from this inheritance, so the **TeamMembership** class must now provide an implementation of the **find_all_students_of_team** method. This method then\n",
    "passed the result to any other object that calls it. We have moved the processing that was done\n",
    "in the high-level **Analysis** class to **TeamMembership** via the **TeamMembershipLookup**"
   ]
  }
 ],
 "metadata": {
  "kernelspec": {
   "display_name": "Python 3.10.6 64-bit",
   "language": "python",
   "name": "python3"
  },
  "language_info": {
   "codemirror_mode": {
    "name": "ipython",
    "version": 3
   },
   "file_extension": ".py",
   "mimetype": "text/x-python",
   "name": "python",
   "nbconvert_exporter": "python",
   "pygments_lexer": "ipython3",
   "version": "3.10.6"
  },
  "vscode": {
   "interpreter": {
    "hash": "e7370f93d1d0cde622a1f8e1c04877d8463912d04d973331ad4851f04de6915a"
   }
  }
 },
 "nbformat": 4,
 "nbformat_minor": 5
}
