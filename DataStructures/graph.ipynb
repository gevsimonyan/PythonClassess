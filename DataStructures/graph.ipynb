{
 "cells": [
  {
   "cell_type": "markdown",
   "metadata": {},
   "source": [
    "# Mathematical definition"
   ]
  },
  {
   "cell_type": "markdown",
   "metadata": {},
   "source": [
    "Graph is a pair G = (V, E), where V is a set whose elements are called \n",
    "verticles, and E is a set of paired verticles, whose elements are called edges.\n",
    "\n",
    "#### G(V, E) = <V, E>, \n",
    "#### V ≠ ∅,\n",
    "#### E ⊆ V ⨯ V, \n",
    "#### {v, v} ∉ E, v ∈ V"
   ]
  },
  {
   "cell_type": "markdown",
   "metadata": {},
   "source": [
    "#### Graphs can be represented by two ways:\n",
    "1. Adjacency matrix (матрица смежности):\n",
    "A two-dimensional matrix, in which the rows represent source verticles and columns represent destination verticles.\n",
    "2. Adjacency list (список смежности):\n",
    "Verticles are stored as records or objects, and every vertex stores a list of adjacent verticles. This data structure allows to storage of addition data on the vertecles.\n"
   ]
  },
  {
   "cell_type": "markdown",
   "metadata": {},
   "source": [
    "#### Time complexities:\n",
    "AL = Adjacency List, AM = Adjacency Matrix, V = Vertex, E = Edge\n",
    "* Store Graph: AL: (|V| + |E|), AM: O(|V| * |V|)\n",
    "* Add Vertex: AL: O(1), AM: O(|V| * |V|)\n",
    "* Add Edge: AL: O(1), AM: O(1)\n",
    "* Remove Vertex: AL: O(|E|), AM: O(|V| * |V|)\n",
    "* Remove Edge: AL: O(|V|), AM: O(1)\n",
    "\n",
    "* AL: Slow to remove vertices and edges, because it needs to find all vertices or edges\n",
    "* AM: Slow to add or remove vertices, because matrix must be resized/copied\n"
   ]
  },
  {
   "cell_type": "markdown",
   "metadata": {},
   "source": [
    "# Definition in human language"
   ]
  },
  {
   "cell_type": "markdown",
   "metadata": {},
   "source": [
    "A graph is a pictorial representation of a set of objects where some pairs of objects are connected by links.\n",
    "\n",
    "The interconnected objects are represented by points termed as vertices, and the links that connect the vertices are called edges.\n",
    "\n",
    "\n",
    "Following are the basic operations we perform on graphs\n",
    "* Display graph verticles\n",
    "* Display graph edges\n",
    "* Add a vertex\n",
    "* Add a edge\n",
    "* Creating a graph\n",
    "\n",
    "A graph can be presented using the python dictionary data types. We represent the vertices as the keys of the dictionary and the edges as the values of the dictionary\n",
    "\n",
    "Take a look at the following graph -\n",
    "\n",
    "![](graph.png \"Out graph\")\n",
    "\n",
    "In the above graph\n",
    "G = (V, E)\n",
    "V = {a, b, c, d, e}\n",
    "E = {(a,b), (a,c), (b,d), (c,d), (d,e)}\n",
    "\n",
    "Creating a graph"
   ]
  },
  {
   "cell_type": "code",
   "execution_count": 2,
   "metadata": {},
   "outputs": [
    {
     "name": "stdout",
     "output_type": "stream",
     "text": [
      "{'a': ['b', 'c'], 'b': ['a', 'd'], 'c': ['a', 'd'], 'd': ['e'], 'e': ['d']}\n"
     ]
    }
   ],
   "source": [
    "# Create a graph with the python dictionary data types\n",
    "# vertex as the key\n",
    "# edge as the value\n",
    "\n",
    "graph = {\n",
    "    \"a\": [\"b\", \"c\"],\n",
    "    \"b\": [\"a\", \"d\"],\n",
    "    \"c\": [\"a\", \"d\"],\n",
    "    \"d\": [\"e\"],\n",
    "    \"e\": [\"d\"]\n",
    "}\n",
    "\n",
    "print(graph)"
   ]
  },
  {
   "cell_type": "code",
   "execution_count": 4,
   "metadata": {},
   "outputs": [
    {
     "name": "stdout",
     "output_type": "stream",
     "text": [
      "['a', 'b', 'c', 'd', 'e']\n"
     ]
    }
   ],
   "source": [
    "# Display vertecles\n",
    "\n",
    "class Graph:\n",
    "    def __init__(self, g_dict=None):\n",
    "        if g_dict is None:\n",
    "            g_dict = {}\n",
    "        self.g_dict = g_dict\n",
    "\n",
    "    def get_vertex(self):\n",
    "        return list(self.g_dict.keys())\n",
    "\n",
    "graph = {\n",
    "    \"a\": [\"b\", \"c\"],\n",
    "    \"b\": [\"a\", \"d\"],\n",
    "    \"c\": [\"a\", \"d\"],\n",
    "    \"d\": [\"e\"],\n",
    "    \"e\": [\"d\"]\n",
    "    \n",
    "}\n",
    "g = Graph(graph)\n",
    "print(g.get_vertex())  "
   ]
  },
  {
   "cell_type": "code",
   "execution_count": null,
   "metadata": {},
   "outputs": [],
   "source": [
    "# Create graph class with following methods\n",
    "class Grapg:\n",
    "    def __init__(self, g_dict=None):\n",
    "        if g_dict is None:\n",
    "            g_dict = {}\n",
    "        self.g_dict = g_dict\n",
    "    \n",
    "#     graph = {\n",
    "#     \"a\": [\"b\", \"c\"],\n",
    "#     \"b\": [\"a\", \"d\"],\n",
    "#     \"c\": [\"a\", \"d\"],\n",
    "#     \"d\": [\"e\"],\n",
    "#     \"e\": [\"d\"],\n",
    "#     \"f\": [\"a\"]\n",
    "    \n",
    "# }\n",
    "    \n",
    "    def get_vertex(self):\n",
    "        return list(self.g_dict.keys())\n",
    "    \n",
    "    def get_edges(self):\n",
    "        \"\"\"\n",
    "            Should display all edges\n",
    "        \"\"\"\n",
    "        pass\n",
    "    \n",
    "    def add_vertex(self, vertex):\n",
    "        \"\"\"\n",
    "            Should add new vertex\n",
    "        \"\"\"\n",
    "        pass\n",
    "    \n",
    "    def add_edge(self, new_edge):\n",
    "        \"\"\"\n",
    "            Should add new edge\n",
    "        \"\"\"\n",
    "        pass"
   ]
  },
  {
   "cell_type": "markdown",
   "metadata": {},
   "source": [
    "# Directed graph\n",
    "Directed graph is a pair G = (V, E) where:\n",
    "* V, a set of verticles (also called nodes or points)\n",
    "* E ⊆ {(x, y) | (x, y) ⊆ V ⨯ V, x ≠ y}, a set of edges (also called directed edges, directed links, directed lines, arrows or arcs) which are ordered pairs of vertices (thas is, an edge is associated with two distinct verticles)"
   ]
  }
 ],
 "metadata": {
  "kernelspec": {
   "display_name": "Python 3.10.6 64-bit",
   "language": "python",
   "name": "python3"
  },
  "language_info": {
   "codemirror_mode": {
    "name": "ipython",
    "version": 3
   },
   "file_extension": ".py",
   "mimetype": "text/x-python",
   "name": "python",
   "nbconvert_exporter": "python",
   "pygments_lexer": "ipython3",
   "version": "3.10.6"
  },
  "orig_nbformat": 4,
  "vscode": {
   "interpreter": {
    "hash": "e7370f93d1d0cde622a1f8e1c04877d8463912d04d973331ad4851f04de6915a"
   }
  }
 },
 "nbformat": 4,
 "nbformat_minor": 2
}
