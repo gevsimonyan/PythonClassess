{
 "cells": [
  {
   "cell_type": "markdown",
   "metadata": {},
   "source": [
    "# Binary Search Tree (BST)\n",
    "\n",
    "BST is a node-based data structure which has the following properties:\n",
    "* The left subtree of a node contains only nodes with keys lesser than the node's key\n",
    "* The right subtree of a node contains only nodes with\n",
    "keys greater than the node's key\n",
    "* The left and right subtree must also be binary search tree\n",
    "\n",
    "\n",
    "## BST travers\n",
    "* pre-order\n",
    "    * Visit root\n",
    "    * Travers left subtree\n",
    "    * Travers right subtree\n",
    "\n",
    "* in-order\n",
    "    * Travers the left subtree\n",
    "    * Visit root\n",
    "    * Travers the right subtree\n",
    "\n",
    "* post-order\n",
    "    * Travers left subtree\n",
    "    * Travers right subtree\n",
    "    * Visit root\n"
   ]
  },
  {
   "cell_type": "code",
   "execution_count": 1,
   "metadata": {},
   "outputs": [
    {
     "name": "stdout",
     "output_type": "stream",
     "text": [
      "20\n",
      "30\n",
      "40\n",
      "50\n",
      "60\n",
      "70\n",
      "80\n"
     ]
    }
   ],
   "source": [
    "class Node:\n",
    "    def __init__(self, key):\n",
    "        self.left = None\n",
    "        self.right = None\n",
    "        self.val = key\n",
    "        \n",
    "# Implement insert function recursive\n",
    "def insert(root, key):\n",
    "    pass\n",
    "\n",
    "# Implement search function recursive\n",
    "def search(root, key):\n",
    "    pass\n",
    "\n",
    "# Implement inorder travers function revursive\n",
    "def inorder(root):\n",
    "    pass\n",
    "\n",
    "def preorder(root):\n",
    "    pass\n",
    "\n",
    "def postorder(root):\n",
    "    pass\n",
    "\n",
    "\n",
    "#    50\n",
    "#  /     \\\n",
    "# 30     70\n",
    "#  / \\ / \\\n",
    "# 20 40 60 80\n",
    "r = Node(50)\n",
    "r = insert(r, 30)\n",
    "r = insert(r, 20)\n",
    "r = insert(r, 40)\n",
    "r = insert(r, 70)\n",
    "r = insert(r, 60)\n",
    "r = insert(r, 80)\n",
    "\n",
    "inorder(r)"
   ]
  }
 ],
 "metadata": {
  "kernelspec": {
   "display_name": "Python 3.10.6 64-bit",
   "language": "python",
   "name": "python3"
  },
  "language_info": {
   "codemirror_mode": {
    "name": "ipython",
    "version": 3
   },
   "file_extension": ".py",
   "mimetype": "text/x-python",
   "name": "python",
   "nbconvert_exporter": "python",
   "pygments_lexer": "ipython3",
   "version": "3.10.6"
  },
  "orig_nbformat": 4,
  "vscode": {
   "interpreter": {
    "hash": "e7370f93d1d0cde622a1f8e1c04877d8463912d04d973331ad4851f04de6915a"
   }
  }
 },
 "nbformat": 4,
 "nbformat_minor": 2
}
