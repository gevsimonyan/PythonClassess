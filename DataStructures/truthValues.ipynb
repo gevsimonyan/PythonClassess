{
 "cells": [
  {
   "cell_type": "markdown",
   "metadata": {},
   "source": [
    "In python, individual values can evaluate to either True or False.\n",
    "The basic rules are:\n",
    "* Values that evaluate to False are consider Falsy\n",
    "* Values that evaluate to True are consider Truthy\n",
    "\n",
    "* Falsy Values:\n",
    "    * Sequences and Collections:\n",
    "        * Empty list []\n",
    "        * Empty tuple ()\n",
    "        * Empty dictionaries {}\n",
    "        * Empty set set()\n",
    "        * Empty string \"\"\n",
    "        * Empty ranges range(0)\n",
    "    * Numbers:\n",
    "        * Zero of any numeric type\n",
    "        * Integer 0\n",
    "        * Float 0.0\n",
    "        * Complex 0j\n",
    "    * Constants:\n",
    "        * None\n",
    "        * False\n"
   ]
  },
  {
   "cell_type": "code",
   "execution_count": 1,
   "metadata": {},
   "outputs": [
    {
     "name": "stdout",
     "output_type": "stream",
     "text": [
      "2\n",
      "4\n",
      "6\n",
      "The arg cannot be empty\n"
     ]
    }
   ],
   "source": [
    "# Example\n",
    "def print_even(data):\n",
    "    if len(data) > 0:\n",
    "        for val in data:\n",
    "            if val % 2 == 0:\n",
    "                print(val)\n",
    "    else:\n",
    "        print(\"The arg cannot be empty\")\n",
    "        \n",
    "print_even([1, 2, 3, 4, 5, 6])\n",
    "print_even([])\n"
   ]
  },
  {
   "cell_type": "code",
   "execution_count": 2,
   "metadata": {},
   "outputs": [
    {
     "name": "stdout",
     "output_type": "stream",
     "text": [
      "2\n",
      "4\n",
      "6\n",
      "The arg cannot be empty\n"
     ]
    }
   ],
   "source": [
    "def print_even(data):\n",
    "    if data:\n",
    "        for val in data:\n",
    "            if val % 2 == 0:\n",
    "                print(val)\n",
    "    else:\n",
    "        print(\"The arg cannot be empty\")\n",
    "        \n",
    "print_even([1, 2, 3, 4, 5, 6])\n",
    "print_even([])"
   ]
  },
  {
   "cell_type": "code",
   "execution_count": 7,
   "metadata": {},
   "outputs": [
    {
     "name": "stdout",
     "output_type": "stream",
     "text": [
      "True\n",
      "True\n"
     ]
    }
   ],
   "source": [
    "# Making custom objects Truthy and Falsy values\n",
    "class Account:\n",
    "    def __init__(self, balance):\n",
    "        self.balance = balance\n",
    "acc1 = Account(500)\n",
    "print(bool(acc1))\n",
    "acc2 = Account(0)\n",
    "print(bool(acc2))"
   ]
  },
  {
   "cell_type": "code",
   "execution_count": 8,
   "metadata": {},
   "outputs": [
    {
     "name": "stdout",
     "output_type": "stream",
     "text": [
      "True\n",
      "False\n"
     ]
    }
   ],
   "source": [
    "# We can customize this behavior by \n",
    "# adding the magic method __bool__()\n",
    "class Account:\n",
    "    def __init__(self, balance):\n",
    "        self.balance = balance\n",
    "        \n",
    "    def __bool__(self):\n",
    "        return self.balance > 0\n",
    "    \n",
    "acc1 = Account(500)\n",
    "print(bool(acc1))\n",
    "acc2 = Account(0)\n",
    "print(bool(acc2))"
   ]
  }
 ],
 "metadata": {
  "kernelspec": {
   "display_name": "Python 3.10.6 64-bit",
   "language": "python",
   "name": "python3"
  },
  "language_info": {
   "codemirror_mode": {
    "name": "ipython",
    "version": 3
   },
   "file_extension": ".py",
   "mimetype": "text/x-python",
   "name": "python",
   "nbconvert_exporter": "python",
   "pygments_lexer": "ipython3",
   "version": "3.10.6"
  },
  "orig_nbformat": 4,
  "vscode": {
   "interpreter": {
    "hash": "e7370f93d1d0cde622a1f8e1c04877d8463912d04d973331ad4851f04de6915a"
   }
  }
 },
 "nbformat": 4,
 "nbformat_minor": 2
}
