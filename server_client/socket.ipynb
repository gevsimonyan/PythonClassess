{
 "cells": [
  {
   "cell_type": "markdown",
   "metadata": {},
   "source": [
    "# Socket Programming\n",
    "\n",
    "#### Client-Server\n",
    "A server is software that listens for client requests and serves or processes them accordingly.\n",
    "On the other hand, the client requests this service. The client program requests some resources from the server, and the server responds to this request.\n",
    "\n",
    "#### Socket\n",
    "Socket is the endpoint of a bidirectional communication channel between server and client. Sockets can communicate within a process, between processes on the same machine, or between processes on different machines. For any interaction with a remote program, we must connect through the socket port."
   ]
  },
  {
   "cell_type": "markdown",
   "metadata": {},
   "source": [
    "# Socket methods\n",
    "* socket.bind(address) - bind socket to address\n",
    "* socket.listen([backlog(int)]) - sets the server to accept connections. The [backlog(int)] parameter is the number of connections the server will accept.\n",
    "* server.accept() - accept the connection and **BLOCKS** the program while waiting for a message from the client. It returns a tuple as a result:\n",
    "    * conn - connection object(socket) that can be used to send/receive data\n",
    "    * address - address of client\n",
    "* socket.recv(bufsize[, flags]) - read and return data in binary format(a set of bytes) from socket. Parameter bufsize(int) - the maximum number of bytes in one message\n",
    "* socket.send(bytes[, flags]) - sends data to the client and returns the number of bytes sent.\n",
    "* socket.close() - close the socket\n",
    "* socket.AF_INET - ipV4 protocol\n",
    "* socket.SOCK_STREAM - tcp protocol\n",
    "* socket.setsocopt - set cocket options (call on socket object)\n",
    "* socket.SOL_SOCKET - socket level option\n",
    "* socket.SO_REUSEADDR - option for reuse address after disconection without timeout"
   ]
  },
  {
   "cell_type": "markdown",
   "metadata": {},
   "source": [
    "# Socket Server"
   ]
  },
  {
   "cell_type": "code",
   "execution_count": null,
   "metadata": {},
   "outputs": [],
   "source": [
    "import socket\n",
    "\n",
    "\n",
    "# domain:port - socket\n",
    "\n",
    "server_socket = socket.socket(socket.AF_INET, socket.SOCK_STREAM)\n",
    "server_socket.setsockopt(\n",
    "    socket.SOL_SOCKET,\n",
    "    socket.SO_REUSEADDR,\n",
    "    True\n",
    ")\n",
    "server_socket.bind((\"localhost\", 8000))\n",
    "server_socket.listen()\n",
    "\n",
    "while True:\n",
    "    print(\"Before accept\")\n",
    "    client_socket, addr = server_socket.accept()\n",
    "    print(f\"Connected from: {addr}\")\n",
    "    \n",
    "    while True:\n",
    "        print(\"Before recv\")\n",
    "        request = client_socket.recv(4096) # 4 kb\n",
    "        print(\"After recv\")\n",
    "        \n",
    "        print(\"request is: \", request)\n",
    "        \n",
    "        if not request:\n",
    "            break\n",
    "        else:\n",
    "            response = \"Hello From Server\\n\".encode() # to bytes\n",
    "            print()\n",
    "            print(\"Before response\")\n",
    "            client_socket.send(response)\n",
    "            print(\"response is: \", response)\n",
    "            print(\"After response\")\n",
    "    \n",
    "    print(\"Outside inner while loop\")\n",
    "    client_socket.close()\n",
    "    \n",
    "# python server.py\n",
    "# nc localhost 8080"
   ]
  }
 ],
 "metadata": {
  "kernelspec": {
   "display_name": "Python 3.10.6 64-bit",
   "language": "python",
   "name": "python3"
  },
  "language_info": {
   "name": "python",
   "version": "3.10.6"
  },
  "orig_nbformat": 4,
  "vscode": {
   "interpreter": {
    "hash": "e7370f93d1d0cde622a1f8e1c04877d8463912d04d973331ad4851f04de6915a"
   }
  }
 },
 "nbformat": 4,
 "nbformat_minor": 2
}
