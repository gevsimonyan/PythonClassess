{
 "cells": [
  {
   "cell_type": "markdown",
   "metadata": {},
   "source": [
    "# Virtual env\n",
    "python -m venc \\<dirname for venv\\>\n",
    "\n",
    "If you want create venc in current dir write .\n",
    "\n",
    "\n",
    "\n",
    "# Python telgram bot\n",
    "pip install pyTelegramBotAPI\n"
   ]
  },
  {
   "cell_type": "code",
   "execution_count": null,
   "metadata": {},
   "outputs": [],
   "source": [
    "# Initalizing bot\n",
    "import telebot\n",
    "bot = telebot.TeleBot(\"API_TOKEN\")\n",
    "\n",
    "@bot.message_handler(commands=[\"start\"]) # in commands we write command that call this function example \"/start\"\n",
    "def start(message): # /start\n",
    "    msg = f\"Hello, {message.from_user.first_name} {message.from_user.last_name}\"\n",
    "    bot.send_message(message.chat.id, msg)\n",
    "    # param message.chat.id use to detect correct chat\n",
    "    # second param contains string that we want to send\n",
    "\n",
    "# With that function you can see what is the message in function param\n",
    "@bot.message_handler(commands=[\"showMessageObject\"])    \n",
    "def get_user_text(message):\n",
    "    bot.send_message(message.chat.id, message)\n",
    "   \n",
    "# with that function bot handle all messages that user send \n",
    "@bot.message_handler()\n",
    "def handle_all_messages(message):\n",
    "    \n",
    "    if message.text == \"Hello\":\n",
    "        bot.send_message(message.chat.id, \"Hello!!!\")\n",
    "    elif message.text == \"id\":\n",
    "        bot.send_message(message.chat.id, f\"Your id is: {message.from_user.id}\")\n",
    "    else:\n",
    "        bot.send_message(message.chat.id, \"I don't understand that command!!!\")\n",
    "        \n",
    "\n",
    "# handle all messages that contains only text!\n",
    "\n",
    "@bot.message_handler(content_types=[\"text\"])\n",
    "def handle_test(message):\n",
    "    pass\n",
    "        \n",
    "# Start bot with that command\n",
    "bot.polling(none_stop=True)\n"
   ]
  },
  {
   "cell_type": "markdown",
   "metadata": {},
   "source": [
    "# WHAT IS JSON\n",
    "JSON - JavaScript Object Notation"
   ]
  },
  {
   "cell_type": "code",
   "execution_count": 5,
   "metadata": {},
   "outputs": [
    {
     "name": "stdout",
     "output_type": "stream",
     "text": [
      "{ \"name\":\"John\", \"age\":30, \"city\":\"New York\"}\n",
      "<class 'str'>\n",
      "<class 'dict'>\n",
      "30\n"
     ]
    }
   ],
   "source": [
    "import json\n",
    "\n",
    "x =  '{ \"name\":\"John\", \"age\":30, \"city\":\"New York\"}'\n",
    "print(x)\n",
    "print(type(x))\n",
    "y = json.loads(x) # json to dict\n",
    "\n",
    "print(type(y))\n",
    "print(y[\"age\"])"
   ]
  },
  {
   "cell_type": "code",
   "execution_count": 7,
   "metadata": {},
   "outputs": [
    {
     "name": "stdout",
     "output_type": "stream",
     "text": [
      "{\"name\": \"John\", \"age\": 30, \"city\": \"New York\"}\n",
      "<class 'str'>\n"
     ]
    }
   ],
   "source": [
    "import json\n",
    "\n",
    "x = {\n",
    "  \"name\": \"John\",\n",
    "  \"age\": 30,\n",
    "  \"city\": \"New York\"\n",
    "}\n",
    "\n",
    "y = json.dumps(x) # dict to json\n",
    "\n",
    "print(y)\n",
    "print(type(y))\n"
   ]
  },
  {
   "cell_type": "code",
   "execution_count": 9,
   "metadata": {},
   "outputs": [
    {
     "name": "stdout",
     "output_type": "stream",
     "text": [
      "{\"name\": \"John\", \"age\": 30}\n",
      "[\"apple\", \"bananas\"]\n",
      "[\"apple\", \"bananas\"]\n",
      "\"hello\"\n",
      "42\n",
      "31.76\n",
      "true\n",
      "false\n",
      "null\n",
      "=========================\n",
      "{\"name\": \"John\", \"age\": 30, \"married\": true, \"divorced\": false, \"children\": [\"Ann\", \"Billy\"], \"pets\": null, \"cars\": [{\"model\": \"BMW 230\", \"mpg\": 27.5}, {\"model\": \"Ford Edge\", \"mpg\": 24.1}]}\n"
     ]
    }
   ],
   "source": [
    "import json\n",
    "\n",
    "print(json.dumps({\"name\": \"John\", \"age\": 30}))\n",
    "print(json.dumps([\"apple\", \"bananas\"]))\n",
    "print(json.dumps((\"apple\", \"bananas\")))\n",
    "print(json.dumps(\"hello\"))\n",
    "print(json.dumps(42))\n",
    "print(json.dumps(31.76))\n",
    "print(json.dumps(True))\n",
    "print(json.dumps(False))\n",
    "print(json.dumps(None))\n",
    "\n",
    "print(\"=========================\")\n",
    "x = {\n",
    "  \"name\": \"John\",\n",
    "  \"age\": 30,\n",
    "  \"married\": True,\n",
    "  \"divorced\": False,\n",
    "  \"children\": (\"Ann\",\"Billy\"),\n",
    "  \"pets\": None,\n",
    "  \"cars\": [\n",
    "    {\"model\": \"BMW 230\", \"mpg\": 27.5},\n",
    "    {\"model\": \"Ford Edge\", \"mpg\": 24.1}\n",
    "  ]\n",
    "}\n",
    "\n",
    "print(json.dumps(x))"
   ]
  }
 ],
 "metadata": {
  "kernelspec": {
   "display_name": "Python 3.10.6 ('venv': venv)",
   "language": "python",
   "name": "python3"
  },
  "language_info": {
   "codemirror_mode": {
    "name": "ipython",
    "version": 3
   },
   "file_extension": ".py",
   "mimetype": "text/x-python",
   "name": "python",
   "nbconvert_exporter": "python",
   "pygments_lexer": "ipython3",
   "version": "3.10.6"
  },
  "orig_nbformat": 4,
  "vscode": {
   "interpreter": {
    "hash": "3cbf3a9e4111ea569fa32122ad9caf85984097ba21662d57722025402ac6cbb0"
   }
  }
 },
 "nbformat": 4,
 "nbformat_minor": 2
}
