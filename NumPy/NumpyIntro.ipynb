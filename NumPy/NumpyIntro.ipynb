{
 "cells": [
  {
   "cell_type": "code",
   "execution_count": 1,
   "id": "25b03f0a-4b1c-4737-8d05-114fdcf46e02",
   "metadata": {},
   "outputs": [
    {
     "name": "stdout",
     "output_type": "stream",
     "text": [
      "Defaulting to user installation because normal site-packages is not writeable\n",
      "Requirement already satisfied: numpy in /home/rootnad/.local/lib/python3.10/site-packages (1.22.4)\n"
     ]
    }
   ],
   "source": [
    "!pip install numpy"
   ]
  },
  {
   "cell_type": "code",
   "execution_count": 2,
   "id": "ddf06c84-17c3-48dc-b0ed-20514d17677f",
   "metadata": {},
   "outputs": [],
   "source": [
    "import numpy as np"
   ]
  },
  {
   "cell_type": "code",
   "execution_count": 3,
   "id": "20ae2f13-6292-4f88-80dc-88b0d92689e0",
   "metadata": {},
   "outputs": [],
   "source": [
    "# 1d array\n",
    "a = np.array([1, 2, 3, 4, 5], float)"
   ]
  },
  {
   "cell_type": "code",
   "execution_count": 4,
   "id": "ec80420e-5ad1-4b21-b9d9-9b97c32b1a06",
   "metadata": {},
   "outputs": [
    {
     "name": "stdout",
     "output_type": "stream",
     "text": [
      "[1. 2. 3. 4. 5.]\n",
      "<class 'numpy.ndarray'>\n"
     ]
    }
   ],
   "source": [
    "print(a)\n",
    "print(type(a))"
   ]
  },
  {
   "cell_type": "code",
   "execution_count": 5,
   "id": "e0a3085c-d2be-4406-b049-bf8208679a3b",
   "metadata": {},
   "outputs": [
    {
     "name": "stdout",
     "output_type": "stream",
     "text": [
      "[1. 2.]\n",
      "4.0\n",
      "[5. 2. 3. 4. 5.]\n"
     ]
    }
   ],
   "source": [
    "print(a[:2])\n",
    "print(a[3])\n",
    "a[0] = 5\n",
    "print(a)\n"
   ]
  },
  {
   "cell_type": "code",
   "execution_count": null,
   "id": "1310351f-a0df-4467-98ac-d14721f645c4",
   "metadata": {},
   "outputs": [
    {
     "name": "stdout",
     "output_type": "stream",
     "text": [
      "[[1. 2. 3.]\n",
      " [4. 5. 6.]]\n",
      "4.0\n"
     ]
    }
   ],
   "source": [
    "# 2d array\n",
    "a = np.array([[1, 2, 3], [4, 5, 6]], float)\n",
    "print(a)\n",
    "print(a[1, 0]) # a[1][0]"
   ]
  },
  {
   "cell_type": "code",
   "execution_count": 9,
   "id": "fb3fb708-a962-4358-9055-0bbebcb9d95f",
   "metadata": {},
   "outputs": [
    {
     "name": "stdout",
     "output_type": "stream",
     "text": [
      "[4. 5. 6.]\n",
      "[3. 6.]\n",
      "[[5. 6.]]\n"
     ]
    }
   ],
   "source": [
    "print(a[1, :])\n",
    "print(a[:, 2])\n",
    "print(a[-1:, -2:])"
   ]
  },
  {
   "cell_type": "code",
   "execution_count": 11,
   "id": "52c023b5-050e-4492-8f90-a0ec47e42f1d",
   "metadata": {},
   "outputs": [
    {
     "name": "stdout",
     "output_type": "stream",
     "text": [
      "(2, 3)\n",
      "float64\n"
     ]
    }
   ],
   "source": [
    "print(a.shape) # returns the number of rows and columns (2, 3)\n",
    "\n",
    "print(a.dtype) # return data type in array\n"
   ]
  },
  {
   "cell_type": "code",
   "execution_count": 12,
   "id": "38040b9e-7540-4e54-8a81-55065de9d654",
   "metadata": {},
   "outputs": [
    {
     "name": "stdout",
     "output_type": "stream",
     "text": [
      "[0. 1. 2. 3. 4. 5. 6. 7. 8. 9.]\n",
      "[[0. 1.]\n",
      " [2. 3.]\n",
      " [4. 5.]\n",
      " [6. 7.]\n",
      " [8. 9.]]\n",
      "(5, 2)\n"
     ]
    }
   ],
   "source": [
    "# Reformat 1d array to 2d array with numpy\n",
    "a = np.array(range(10), float)\n",
    "print(a)\n",
    "a = a.reshape((5, 2))\n",
    "print(a)\n",
    "print(a.shape) # Reshape create new array"
   ]
  },
  {
   "cell_type": "code",
   "execution_count": 13,
   "id": "1e84fd74-c299-451b-909f-9f9a5239a93d",
   "metadata": {},
   "outputs": [
    {
     "name": "stdout",
     "output_type": "stream",
     "text": [
      "[0. 1. 2. 3. 4. 5. 6. 7. 8. 9.]\n",
      "[0.0, 1.0, 2.0, 3.0, 4.0, 5.0, 6.0, 7.0, 8.0, 9.0]\n",
      "[0.0, 1.0, 2.0, 3.0, 4.0, 5.0, 6.0, 7.0, 8.0, 9.0]\n"
     ]
    }
   ],
   "source": [
    "# np array to list\n",
    "a = np.array(range(10), float)\n",
    "print(a)\n",
    "print(a.tolist())\n",
    "print(list(a))"
   ]
  },
  {
   "cell_type": "code",
   "execution_count": 14,
   "id": "584d9f73-cb6b-47b4-a9a0-f4e8b5e1bbcd",
   "metadata": {},
   "outputs": [
    {
     "name": "stdout",
     "output_type": "stream",
     "text": [
      "[1. 2. 3.]\n",
      "[0. 0. 0.]\n"
     ]
    }
   ],
   "source": [
    "# Filling an array with the same value\n",
    "a = np.array([1, 2, 3], float)\n",
    "print(a)\n",
    "a.fill(0)\n",
    "print(a)\n"
   ]
  },
  {
   "cell_type": "code",
   "execution_count": 15,
   "id": "0e731782-f374-4153-82c1-9add85250b28",
   "metadata": {},
   "outputs": [
    {
     "name": "stdout",
     "output_type": "stream",
     "text": [
      "[[0. 1. 2.]\n",
      " [3. 4. 5.]]\n",
      "[[0. 3.]\n",
      " [1. 4.]\n",
      " [2. 5.]]\n"
     ]
    }
   ],
   "source": [
    "# Transposing arrays is also possible, creating a new array\n",
    "a = np.array(range(6), float).reshape((2, 3))\n",
    "print(a)\n",
    "print(a.transpose())"
   ]
  },
  {
   "cell_type": "code",
   "execution_count": 16,
   "id": "077e6b56-3d51-4106-bcee-a9936dedf10f",
   "metadata": {},
   "outputs": [
    {
     "name": "stdout",
     "output_type": "stream",
     "text": [
      "[[1. 2. 3.]\n",
      " [4. 5. 6.]]\n",
      "[1. 2. 3. 4. 5. 6.]\n"
     ]
    }
   ],
   "source": [
    "# 2d arr to 1d\n",
    "a = np.array([[1, 2, 3], [4, 5, 6]], float)\n",
    "print(a)\n",
    "print(a.flatten())"
   ]
  },
  {
   "cell_type": "code",
   "execution_count": 17,
   "id": "68099a34-e784-4f7c-804f-0b23fb96c47e",
   "metadata": {},
   "outputs": [
    {
     "name": "stdout",
     "output_type": "stream",
     "text": [
      "[1. 2. 3. 4. 5. 6. 7. 8. 9.]\n"
     ]
    }
   ],
   "source": [
    "# Arrays concat\n",
    "a = np.array([1,2], float)\n",
    "b = np.array([3,4,5,6], float)\n",
    "c = np.array([7,8,9], float)\n",
    "new = np.concatenate((a, b, c))\n",
    "print(new)\n"
   ]
  },
  {
   "cell_type": "code",
   "execution_count": 18,
   "id": "3df27a3f-71af-41a5-b0af-bb1e728a7ef8",
   "metadata": {},
   "outputs": [
    {
     "name": "stdout",
     "output_type": "stream",
     "text": [
      "[[1. 1. 1.]\n",
      " [1. 1. 1.]]\n"
     ]
    }
   ],
   "source": [
    "# Matrix with ones\n",
    "ones = np.ones((2,3), dtype=float)\n",
    "print(ones)\n",
    "ones = np.ones(2, dtype=float)"
   ]
  },
  {
   "cell_type": "code",
   "execution_count": 19,
   "id": "ae5662a5-c912-43f8-8add-6f24d11aca8d",
   "metadata": {},
   "outputs": [
    {
     "name": "stdout",
     "output_type": "stream",
     "text": [
      "[0. 0. 0. 0. 0. 0. 0.]\n"
     ]
    }
   ],
   "source": [
    "# Matrix with zeros\n",
    "zeros = np.zeros(7, dtype=float)\n",
    "print(zeros)\n",
    "zeros = np.zeros((5, 5), dtype=float)"
   ]
  },
  {
   "cell_type": "code",
   "execution_count": 20,
   "id": "8f674162-355f-4e3e-87bb-8134dd3270a0",
   "metadata": {},
   "outputs": [
    {
     "name": "stdout",
     "output_type": "stream",
     "text": [
      "[1. 1. 1. 1.]\n",
      "[0. 0.]\n"
     ]
    }
   ],
   "source": [
    "a = np.array([1,2], float)\n",
    "b = np.array([3,4,5,6], float)\n",
    "# To zeros or to ones\n",
    "onesB = np.ones_like(b)\n",
    "print(onesB)\n",
    "zerosA = np.zeros_like(a)\n",
    "print(zerosA)\n"
   ]
  },
  {
   "cell_type": "code",
   "execution_count": 21,
   "id": "e6531980-02ab-46c0-be15-828fc41a0148",
   "metadata": {},
   "outputs": [
    {
     "name": "stdout",
     "output_type": "stream",
     "text": [
      "[1. 1. 1. 1.]\n"
     ]
    }
   ],
   "source": [
    "# To ones\n",
    "onesB = np.ones_like(b)\n",
    "print(onesB)"
   ]
  },
  {
   "cell_type": "code",
   "execution_count": 22,
   "id": "07f26edd-50a3-4a86-8316-6d517c86cab8",
   "metadata": {},
   "outputs": [
    {
     "name": "stdout",
     "output_type": "stream",
     "text": [
      "[0. 0.]\n"
     ]
    }
   ],
   "source": [
    "# To zeros\n",
    "zerosA = np.zeros_like(a)\n",
    "print(zerosA)"
   ]
  },
  {
   "cell_type": "code",
   "execution_count": null,
   "id": "63ed1f01-3110-446f-8a16-6835d8e7e4de",
   "metadata": {},
   "outputs": [],
   "source": [
    "# Python list vs numpy ndarray benchmark"
   ]
  },
  {
   "cell_type": "code",
   "execution_count": 23,
   "id": "b7c20a2a-250b-4991-ba5e-0c2401635ea3",
   "metadata": {},
   "outputs": [
    {
     "name": "stdout",
     "output_type": "stream",
     "text": [
      "[0, 1, 2, 3, 4, 5, 6, 7, 8, 9]\n",
      "[0, 2, 4, 6, 8, 10, 12, 14, 16, 18]\n"
     ]
    }
   ],
   "source": [
    "elements_count = 10\n",
    "# Python list\n",
    "x_list = [x for x in range(elements_count)]\n",
    "y_list = [(y*2) for y in range(elements_count)]\n",
    "\n",
    "print(x_list)\n",
    "print(y_list)\n",
    "\n",
    "# Numpy array\n",
    "x_array = np.array(x_list)\n",
    "y_array = np.array(y_list)\n"
   ]
  },
  {
   "cell_type": "code",
   "execution_count": 24,
   "id": "b9822b38-896d-4cc3-ab22-d4efd846d3dd",
   "metadata": {},
   "outputs": [
    {
     "name": "stdout",
     "output_type": "stream",
     "text": [
      "1.96 µs ± 18.7 ns per loop (mean ± std. dev. of 7 runs, 100,000 loops each)\n"
     ]
    }
   ],
   "source": [
    "%%timeit    # jupiter magic command\n",
    "result = []\n",
    "for i in range(len(x_list)):\n",
    "    result.append(x_list[i] + y_list[i])\n",
    "# print(result)"
   ]
  },
  {
   "cell_type": "code",
   "execution_count": 25,
   "id": "bddcbbce-c135-4ad6-bc85-3f88e7cc4e78",
   "metadata": {},
   "outputs": [
    {
     "name": "stdout",
     "output_type": "stream",
     "text": [
      "745 ns ± 18.3 ns per loop (mean ± std. dev. of 7 runs, 1,000,000 loops each)\n"
     ]
    }
   ],
   "source": [
    "%%timeit\n",
    "result = x_array + y_array\n",
    "# print(result)"
   ]
  },
  {
   "cell_type": "code",
   "execution_count": 26,
   "id": "6cd4ea1b-7323-4e4e-97cd-44c0a1ddfebd",
   "metadata": {},
   "outputs": [
    {
     "name": "stdout",
     "output_type": "stream",
     "text": [
      "2.6 slower\n"
     ]
    }
   ],
   "source": [
    "list_time = 1.96e-6 # ms -> 0.0e-6, ns 0.0e-9 \n",
    "array_time = 745e-9\n",
    "print(round(list_time / array_time, 1), \"slower\")"
   ]
  },
  {
   "cell_type": "code",
   "execution_count": 27,
   "id": "260d14ed-89b2-4b5a-addd-0eba47c27bee",
   "metadata": {},
   "outputs": [],
   "source": [
    "elements_count = 1000\n",
    "# Python list\n",
    "x_list = [x for x in range(elements_count)]\n",
    "y_list = [(y*2) for y in range(elements_count)]\n",
    "\n",
    "# print(x_list)\n",
    "# print(y_list)\n",
    "\n",
    "# Numpy array\n",
    "x_array = np.array(x_list)\n",
    "y_array = np.array(y_list)"
   ]
  },
  {
   "cell_type": "code",
   "execution_count": 28,
   "id": "fdd71e49-a7e9-4f71-9d98-9904c544d23a",
   "metadata": {},
   "outputs": [
    {
     "name": "stdout",
     "output_type": "stream",
     "text": [
      "176 µs ± 6.42 µs per loop (mean ± std. dev. of 7 runs, 10,000 loops each)\n"
     ]
    }
   ],
   "source": [
    "%%timeit    # jupiter magic command\n",
    "# Python list\n",
    "\n",
    "result = []\n",
    "for i in range(len(x_list)):\n",
    "    result.append(x_list[i] + y_list[i])\n",
    "# print(result)"
   ]
  },
  {
   "cell_type": "code",
   "execution_count": 29,
   "id": "8aa0c2b8-bbcd-4e8f-88e4-4fe1f9ee8e58",
   "metadata": {},
   "outputs": [
    {
     "name": "stdout",
     "output_type": "stream",
     "text": [
      "1.47 µs ± 244 ns per loop (mean ± std. dev. of 7 runs, 1,000,000 loops each)\n"
     ]
    }
   ],
   "source": [
    "%%timeit\n",
    "# Numpy array\n",
    "\n",
    "result = x_array + y_array\n",
    "# print(result)"
   ]
  },
  {
   "cell_type": "code",
   "execution_count": 30,
   "id": "c9824f87-9e25-4f2d-aca7-583150d4cc64",
   "metadata": {},
   "outputs": [
    {
     "name": "stdout",
     "output_type": "stream",
     "text": [
      "119.7 slower\n"
     ]
    }
   ],
   "source": [
    "list_time = 176e-6 # ms -> 0.0e-6, ns 0.0e-9 \n",
    "array_time = 1.47e-6\n",
    "print(round(list_time / array_time, 1), \"slower\")"
   ]
  }
 ],
 "metadata": {
  "kernelspec": {
   "display_name": "Python 3 (ipykernel)",
   "language": "python",
   "name": "python3"
  },
  "language_info": {
   "codemirror_mode": {
    "name": "ipython",
    "version": 3
   },
   "file_extension": ".py",
   "mimetype": "text/x-python",
   "name": "python",
   "nbconvert_exporter": "python",
   "pygments_lexer": "ipython3",
   "version": "3.10.6"
  }
 },
 "nbformat": 4,
 "nbformat_minor": 5
}
