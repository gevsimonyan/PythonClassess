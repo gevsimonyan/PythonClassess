{
 "cells": [
  {
   "cell_type": "code",
   "execution_count": 1,
   "id": "96657591-9a02-43c7-8a00-b5f93b45f997",
   "metadata": {},
   "outputs": [],
   "source": [
    "import numpy as np"
   ]
  },
  {
   "cell_type": "code",
   "execution_count": 2,
   "id": "9294aa58-14ca-41ca-b7dc-8011a99a6675",
   "metadata": {},
   "outputs": [
    {
     "name": "stdout",
     "output_type": "stream",
     "text": [
      "[0. 1. 2. 3. 4.]\n",
      "[1 3 5]\n"
     ]
    }
   ],
   "source": [
    "# Creating arrays with arange\n",
    "# arange equal to range\n",
    "a = np.arange(5, dtype=float)\n",
    "print(a)\n",
    "a = np.arange(1, 6, 2, dtype=int)\n",
    "print(a)"
   ]
  },
  {
   "cell_type": "code",
   "execution_count": 3,
   "id": "8f982272-d83f-47c2-9afb-d0e8398876b5",
   "metadata": {},
   "outputs": [
    {
     "name": "stdout",
     "output_type": "stream",
     "text": [
      "[[1. 0. 0. 0.]\n",
      " [0. 1. 0. 0.]\n",
      " [0. 0. 1. 0.]\n",
      " [0. 0. 0. 1.]]\n"
     ]
    }
   ],
   "source": [
    "# To create a square matrix with a main diagonal\n",
    "# filled with 1's, use the identity method\n",
    "a = np.identity(4, dtype=float)\n",
    "print(a)"
   ]
  },
  {
   "cell_type": "code",
   "execution_count": 4,
   "id": "27c8a095-5d2d-42ee-9a5e-fe50a12bb477",
   "metadata": {},
   "outputs": [
    {
     "name": "stdout",
     "output_type": "stream",
     "text": [
      "[1. 2. 3.]\n",
      "[5. 2. 6.]\n"
     ]
    }
   ],
   "source": [
    "# Math operations with arrays\n",
    "a = np.array([1, 2, 3], float)\n",
    "b = np.array([5, 2, 6], float)\n",
    "print(a)\n",
    "print(b)"
   ]
  },
  {
   "cell_type": "code",
   "execution_count": 5,
   "id": "ed35daf9-305d-439e-a16d-83806b48509d",
   "metadata": {},
   "outputs": [
    {
     "name": "stdout",
     "output_type": "stream",
     "text": [
      "[6. 4. 9.]\n"
     ]
    }
   ],
   "source": [
    "# add\n",
    "print(a + b)"
   ]
  },
  {
   "cell_type": "code",
   "execution_count": 6,
   "id": "2bf12081-ede3-490a-846f-f95eb4c9ea69",
   "metadata": {},
   "outputs": [
    {
     "name": "stdout",
     "output_type": "stream",
     "text": [
      "[-4.  0. -3.]\n"
     ]
    }
   ],
   "source": [
    "# sub\n",
    "print(a - b)"
   ]
  },
  {
   "cell_type": "code",
   "execution_count": 7,
   "id": "51a12533-05bc-445b-b626-d6669498a680",
   "metadata": {},
   "outputs": [
    {
     "name": "stdout",
     "output_type": "stream",
     "text": [
      "[ 5.  4. 18.]\n"
     ]
    }
   ],
   "source": [
    "# mul\n",
    "print(a * b)"
   ]
  },
  {
   "cell_type": "code",
   "execution_count": 8,
   "id": "79d70ad5-2228-4dac-a267-595c69572e09",
   "metadata": {},
   "outputs": [
    {
     "name": "stdout",
     "output_type": "stream",
     "text": [
      "[0.2 1.  0.5]\n"
     ]
    }
   ],
   "source": [
    "# div\n",
    "print(a / b)"
   ]
  },
  {
   "cell_type": "code",
   "execution_count": 9,
   "id": "76fbbbea-a7da-428a-81c5-21e9637ab229",
   "metadata": {},
   "outputs": [
    {
     "name": "stdout",
     "output_type": "stream",
     "text": [
      "[1. 0. 3.]\n"
     ]
    }
   ],
   "source": [
    "# remainder of the division\n",
    "print(a % b)"
   ]
  },
  {
   "cell_type": "code",
   "execution_count": 10,
   "id": "9417bb74-32d1-4396-ad19-c8c63409fdff",
   "metadata": {},
   "outputs": [
    {
     "name": "stdout",
     "output_type": "stream",
     "text": [
      "[  5.   4. 216.]\n"
     ]
    }
   ],
   "source": [
    "# pow\n",
    "print(b ** a)"
   ]
  },
  {
   "cell_type": "code",
   "execution_count": 11,
   "id": "57adf211-d48f-4507-85e6-a5f557e221e5",
   "metadata": {},
   "outputs": [
    {
     "name": "stdout",
     "output_type": "stream",
     "text": [
      "[[ 2.  0.]\n",
      " [ 3. 12.]]\n"
     ]
    }
   ],
   "source": [
    "# For two-dimensional arrays, multiplication remains \n",
    "# element-wise and does not correspond to matrix multiplication\n",
    "a = np.array([[1,2], [3,4]], float)\n",
    "b = np.array([[2,0], [1,3]], float)\n",
    "\n",
    "print(a * b)"
   ]
  },
  {
   "cell_type": "code",
   "execution_count": 12,
   "id": "708b12a0-6ce8-4036-8768-28d7f10b56b0",
   "metadata": {},
   "outputs": [
    {
     "ename": "ValueError",
     "evalue": "operands could not be broadcast together with shapes (3,) (2,) ",
     "output_type": "error",
     "traceback": [
      "\u001b[0;31m---------------------------------------------------------------------------\u001b[0m",
      "\u001b[0;31mValueError\u001b[0m                                Traceback (most recent call last)",
      "Input \u001b[0;32mIn [12]\u001b[0m, in \u001b[0;36m<cell line: 4>\u001b[0;34m()\u001b[0m\n\u001b[1;32m      2\u001b[0m a \u001b[38;5;241m=\u001b[39m np\u001b[38;5;241m.\u001b[39marray([\u001b[38;5;241m1\u001b[39m,\u001b[38;5;241m2\u001b[39m,\u001b[38;5;241m3\u001b[39m], \u001b[38;5;28mfloat\u001b[39m)\n\u001b[1;32m      3\u001b[0m b \u001b[38;5;241m=\u001b[39m np\u001b[38;5;241m.\u001b[39marray([\u001b[38;5;241m4\u001b[39m,\u001b[38;5;241m5\u001b[39m], \u001b[38;5;28mfloat\u001b[39m)\n\u001b[0;32m----> 4\u001b[0m \u001b[38;5;28mprint\u001b[39m(\u001b[43ma\u001b[49m\u001b[43m \u001b[49m\u001b[38;5;241;43m+\u001b[39;49m\u001b[43m \u001b[49m\u001b[43mb\u001b[49m)\n",
      "\u001b[0;31mValueError\u001b[0m: operands could not be broadcast together with shapes (3,) (2,) "
     ]
    }
   ],
   "source": [
    "# Errors are thrown if the size does not match.\n",
    "a = np.array([1,2,3], float)\n",
    "b = np.array([4,5], float)\n",
    "print(a + b)"
   ]
  },
  {
   "cell_type": "code",
   "execution_count": 13,
   "id": "2531dd43-fcf4-4a02-9367-ab3db1894cb5",
   "metadata": {},
   "outputs": [
    {
     "name": "stdout",
     "output_type": "stream",
     "text": [
      "[[1. 2.]\n",
      " [3. 4.]\n",
      " [5. 6.]] \n",
      "\n",
      "[-1.  3.] \n",
      "\n",
      "[[0. 5.]\n",
      " [2. 7.]\n",
      " [4. 9.]]\n"
     ]
    }
   ],
   "source": [
    "# However, if the dimensions of the arrays do not match, \n",
    "# they will be converted to perform mathematical operations. \n",
    "# This often means that the smaller array will be used \n",
    "# multiple times to complete operations.\n",
    "a = np.array([[1, 2], [3, 4], [5, 6]], float)\n",
    "b = np.array([-1, 3], float)\n",
    "print(a, \"\\n\")\n",
    "print(b, \"\\n\")\n",
    "print(a + b)"
   ]
  },
  {
   "cell_type": "code",
   "execution_count": 14,
   "id": "f32ad470-0022-498b-847b-11c13fb214b3",
   "metadata": {},
   "outputs": [
    {
     "data": {
      "text/plain": [
       "array([1., 2., 3.])"
      ]
     },
     "execution_count": 14,
     "metadata": {},
     "output_type": "execute_result"
    }
   ],
   "source": [
    "# In addition to the standard operators, numpy includes a library \n",
    "# of standard mathematical functions that can be applied element-wise \n",
    "# to arrays. Functions proper: abs, sign, sqrt, \n",
    "# log, log10, exp, sin, cos, tan, arcsin, arccos, \n",
    "# arctan, sinh, cosh, tanh, arcsinh, arccosh, and arctanh.\n",
    "a = np.array([1, 4, 9], float)\n",
    "np.sqrt(a)"
   ]
  },
  {
   "cell_type": "code",
   "execution_count": 15,
   "id": "5e15bb02-24bf-49fe-bd5f-21b5d6fa30d9",
   "metadata": {},
   "outputs": [
    {
     "name": "stdout",
     "output_type": "stream",
     "text": [
      "[1. 1. 1.] \n",
      "\n",
      "[2. 2. 2.] \n",
      "\n",
      "[1. 2. 2.] \n",
      "\n"
     ]
    }
   ],
   "source": [
    "# The floor, ceil, and rint functions return the bottom, \n",
    "# top, or nearest (rounded) value.\n",
    "a = np.array([1.1, 1.5, 1.9], float)\n",
    "print(np.floor(a), \"\\n\")\n",
    "print(np.ceil(a), \"\\n\")\n",
    "print(np.rint(a), \"\\n\")"
   ]
  },
  {
   "cell_type": "code",
   "execution_count": 16,
   "id": "9be31d65-d778-4d58-8a26-c393de477496",
   "metadata": {},
   "outputs": [
    {
     "name": "stdout",
     "output_type": "stream",
     "text": [
      "2.718281828459045\n",
      "3.141592653589793\n"
     ]
    }
   ],
   "source": [
    "# Also included in numpy are two important mathematical constants\n",
    "print(np.e)\n",
    "print(np.pi)"
   ]
  },
  {
   "cell_type": "code",
   "execution_count": 17,
   "id": "06b037c0-635a-4851-93d5-eac75ca8df79",
   "metadata": {},
   "outputs": [
    {
     "name": "stdout",
     "output_type": "stream",
     "text": [
      "1\n",
      "4\n",
      "5\n"
     ]
    }
   ],
   "source": [
    "# Loops on arrays\n",
    "a = np.array([1, 4, 5], int)\n",
    "for x in a:\n",
    "    print(x)"
   ]
  },
  {
   "cell_type": "code",
   "execution_count": 18,
   "id": "865aaacc-15e7-40ff-9201-69bc53e5cc09",
   "metadata": {},
   "outputs": [
    {
     "name": "stdout",
     "output_type": "stream",
     "text": [
      "[1. 2.]\n",
      "[3. 4.]\n",
      "[5. 6.]\n"
     ]
    }
   ],
   "source": [
    "a = np.array([[1, 2], [3, 4], [5, 6]], float)\n",
    "for x in a:\n",
    "    print (x)"
   ]
  },
  {
   "cell_type": "code",
   "execution_count": 19,
   "id": "988e746e-8d37-490c-821b-eaf859d90d55",
   "metadata": {},
   "outputs": [
    {
     "name": "stdout",
     "output_type": "stream",
     "text": [
      "2.0\n",
      "12.0\n",
      "30.0\n"
     ]
    }
   ],
   "source": [
    "a = np.array([[1, 2], [3, 4], [5, 6]], float)\n",
    "for (x, y) in a:\n",
    "    print(x * y)"
   ]
  },
  {
   "cell_type": "code",
   "execution_count": null,
   "id": "d78b9ee3-5ae4-47cd-8de7-6f64bbb2d337",
   "metadata": {},
   "outputs": [],
   "source": [
    "# Basic operations on arrays"
   ]
  },
  {
   "cell_type": "code",
   "execution_count": 20,
   "id": "14ed23ad-041f-4ab1-ad86-7a00b7b14d86",
   "metadata": {},
   "outputs": [
    {
     "name": "stdout",
     "output_type": "stream",
     "text": [
      "9.0\n",
      "24.0\n"
     ]
    }
   ],
   "source": [
    "# Elements can be summed or multiplied\n",
    "a = np.array([2, 4, 3], float)\n",
    "print(a.sum())\n",
    "print(a.prod())"
   ]
  },
  {
   "cell_type": "code",
   "execution_count": 21,
   "id": "3db1ffd1-869c-4240-a160-6c5c5b9db23f",
   "metadata": {},
   "outputs": [
    {
     "name": "stdout",
     "output_type": "stream",
     "text": [
      "[-1.0, 0.0, 2.0, 5.0, 6.0]\n",
      "[-1.  0.  2.  5.  6.]\n"
     ]
    }
   ],
   "source": [
    "# Like lists, arrays can be sorted\n",
    "a = np.array([6, 2, 5, -1, 0], float)\n",
    "print(sorted(a))\n",
    "a.sort()\n",
    "print(a)"
   ]
  },
  {
   "cell_type": "code",
   "execution_count": 34,
   "id": "4181895c-e867-4143-8c1e-3e78f6c6e2fb",
   "metadata": {},
   "outputs": [
    {
     "name": "stdout",
     "output_type": "stream",
     "text": [
      "[5. 2. 5. 0. 0.]\n"
     ]
    }
   ],
   "source": [
    "# Values in an array can be \"shortened\" to belong to a given range\n",
    "a = np.array([6, 2, 5, -1, 0], float)\n",
    "print(a.clip(0, 5))"
   ]
  },
  {
   "cell_type": "code",
   "execution_count": 23,
   "id": "a5560e59-1c87-4770-a028-97dbb922897e",
   "metadata": {},
   "outputs": [
    {
     "name": "stdout",
     "output_type": "stream",
     "text": [
      "[1. 4. 5. 7.]\n"
     ]
    }
   ],
   "source": [
    "# Unique elements can be retrieved like this\n",
    "a = np.array([1, 1, 4, 5, 5, 5, 7], float)\n",
    "print(np.unique(a))"
   ]
  },
  {
   "cell_type": "code",
   "execution_count": 24,
   "id": "5fc5c13f-ad9e-434c-8f86-b7119c9ea5dd",
   "metadata": {},
   "outputs": [
    {
     "name": "stdout",
     "output_type": "stream",
     "text": [
      "[1. 4.]\n"
     ]
    }
   ],
   "source": [
    "# For two-dimensional arrays, the diagonal can be obtained as follows\n",
    "a = np.array([[1, 2], [3, 4]], float)\n",
    "print(a.diagonal())"
   ]
  },
  {
   "cell_type": "code",
   "execution_count": null,
   "id": "a0e45de2-c955-427e-9355-dbce40c6ed1f",
   "metadata": {},
   "outputs": [],
   "source": [
    "# Comparison operators and value testing"
   ]
  },
  {
   "cell_type": "code",
   "execution_count": 25,
   "id": "a41642f0-53fc-4578-9829-643cef8b3598",
   "metadata": {},
   "outputs": [
    {
     "name": "stdout",
     "output_type": "stream",
     "text": [
      "[ True False False]\n",
      "[False  True False]\n",
      "[False  True  True]\n"
     ]
    }
   ],
   "source": [
    "a = np.array([1, 3, 0], float)\n",
    "b = np.array([0, 3, 2], float)\n",
    "\n",
    "print(a > b)\n",
    "print(a == b)\n",
    "print(a <= b)"
   ]
  },
  {
   "cell_type": "code",
   "execution_count": 26,
   "id": "ea751160-bada-4b75-a0ba-218c22b2aaa1",
   "metadata": {},
   "outputs": [
    {
     "name": "stdout",
     "output_type": "stream",
     "text": [
      "[ True False False]\n"
     ]
    }
   ],
   "source": [
    "c = a > b\n",
    "print(c)"
   ]
  },
  {
   "cell_type": "code",
   "execution_count": 27,
   "id": "f1d9b6cd-f334-471d-8c01-5a32c66e2c83",
   "metadata": {},
   "outputs": [
    {
     "name": "stdout",
     "output_type": "stream",
     "text": [
      "[False  True False]\n"
     ]
    }
   ],
   "source": [
    "# Arrays can be compared to a single value\n",
    "a = np.array([1, 3, 0], float)\n",
    "print(a > 2)"
   ]
  },
  {
   "cell_type": "code",
   "execution_count": 28,
   "id": "3b94ed53-0b13-4bbd-9796-904cca655034",
   "metadata": {},
   "outputs": [
    {
     "name": "stdout",
     "output_type": "stream",
     "text": [
      "[[ True False]\n",
      " [False  True]]\n",
      "[6. 9.]\n"
     ]
    }
   ],
   "source": [
    "# Boolean arrays can be used as arrays for filtering\n",
    "a = np.array([[6, 4], [5, 9]], float)\n",
    "print(a >= 6)\n",
    "print(a[a >= 6])"
   ]
  },
  {
   "cell_type": "code",
   "execution_count": 29,
   "id": "6b14c5ef-5c3d-4d43-a36a-46020da5b95c",
   "metadata": {},
   "outputs": [
    {
     "name": "stdout",
     "output_type": "stream",
     "text": [
      "5.0\n"
     ]
    }
   ],
   "source": [
    "# NumPy provides many functions for working \n",
    "# with vectors and matrices. The dot function returns \n",
    "# the dot product of vectors\n",
    "a = np.array([1, 2, 3], float)\n",
    "b = np.array([0, 1, 1], float)\n",
    "print(np.dot(a, b))"
   ]
  },
  {
   "cell_type": "code",
   "execution_count": 30,
   "id": "876c063d-4ccd-4280-afe6-438d07b2f9d7",
   "metadata": {},
   "outputs": [
    {
     "name": "stdout",
     "output_type": "stream",
     "text": [
      "[ 6. 11.] \n",
      "\n",
      "[ 3. 13.] \n",
      "\n",
      "[[ 4.  0.]\n",
      " [14.  2.]] \n",
      "\n",
      "[[2. 4.]\n",
      " [0. 4.]] \n",
      "\n"
     ]
    }
   ],
   "source": [
    "# The dot function can also multiply matrices\n",
    "a = np.array([[0, 1], [2, 3]], float)\n",
    "b = np.array([2, 3], float)\n",
    "c = np.array([[1, 1], [4, 0]], float)\n",
    "\n",
    "print(np.dot(b, a), \"\\n\")\n",
    "print(np.dot(a, b), \"\\n\")\n",
    "print(np.dot(a, c), \"\\n\")\n",
    "print(np.dot(c, a), \"\\n\")"
   ]
  },
  {
   "cell_type": "code",
   "execution_count": 31,
   "id": "58df802e-8815-4def-a78a-95da5bdb5ef1",
   "metadata": {},
   "outputs": [
    {
     "name": "stdout",
     "output_type": "stream",
     "text": [
      "[[4. 2. 0.]\n",
      " [9. 3. 7.]\n",
      " [1. 2. 1.]] \n",
      "\n",
      "-48.00000000000003\n"
     ]
    }
   ],
   "source": [
    "# NumPy also provides a set of built-in functions and methods for working \n",
    "# with linear algebra. All this can be found in the linalg sub-module. \n",
    "# These modules can also be operated on degenerate and non-degenerate matrices. \n",
    "#The determinant of the matrix is found in this way\n",
    "a = np.array([[4, 2, 0], [9, 3, 7], [1, 2, 1]], float)\n",
    "print(a, \"\\n\")\n",
    "print(np.linalg.det(a))"
   ]
  },
  {
   "cell_type": "code",
   "execution_count": 32,
   "id": "3211a64c-9f38-448a-880b-bc3f53d8d30e",
   "metadata": {},
   "outputs": [
    {
     "name": "stdout",
     "output_type": "stream",
     "text": [
      "[ 8.85591316  1.9391628  -2.79507597] \n",
      "\n",
      "[[-0.3663565  -0.54736745  0.25928158]\n",
      " [-0.88949768  0.5640176  -0.88091903]\n",
      " [-0.27308752  0.61828231  0.39592263]] \n",
      "\n"
     ]
    }
   ],
   "source": [
    "# You can also find the eigenvector and eigenvalue of a matrix\n",
    "# собственный вектор и собственное значение матрицы\n",
    "vals, vecs = np.linalg.eig(a)\n",
    "print(vals, \"\\n\")\n",
    "print(vecs, \"\\n\")"
   ]
  },
  {
   "cell_type": "code",
   "execution_count": 33,
   "id": "7db7b1f2-352f-4199-8104-8af9a1d3046a",
   "metadata": {},
   "outputs": [
    {
     "name": "stdout",
     "output_type": "stream",
     "text": [
      "[[ 0.22916667  0.04166667 -0.29166667]\n",
      " [ 0.04166667 -0.08333333  0.58333333]\n",
      " [-0.3125      0.125       0.125     ]] \n",
      "\n",
      "[[1.00000000e+00 5.55111512e-17 0.00000000e+00]\n",
      " [0.00000000e+00 1.00000000e+00 2.22044605e-16]\n",
      " [0.00000000e+00 1.38777878e-17 1.00000000e+00]]\n"
     ]
    }
   ],
   "source": [
    "# A non-singular matrix can be found like this\n",
    "b = np.linalg.inv(a)\n",
    "print(b, \"\\n\")\n",
    "print(np.dot(a, b))"
   ]
  },
  {
   "cell_type": "code",
   "execution_count": null,
   "id": "70b14652-940c-41fa-9ed2-568e37b989b3",
   "metadata": {},
   "outputs": [],
   "source": []
  },
  {
   "cell_type": "code",
   "execution_count": null,
   "id": "86f526b5-7f28-4c02-b6c2-1ea597964e94",
   "metadata": {},
   "outputs": [],
   "source": []
  },
  {
   "cell_type": "code",
   "execution_count": null,
   "id": "bbe59c6d-70b3-4db2-9c0e-93d855172b4f",
   "metadata": {},
   "outputs": [],
   "source": []
  }
 ],
 "metadata": {
  "kernelspec": {
   "display_name": "Python 3 (ipykernel)",
   "language": "python",
   "name": "python3"
  },
  "language_info": {
   "codemirror_mode": {
    "name": "ipython",
    "version": 3
   },
   "file_extension": ".py",
   "mimetype": "text/x-python",
   "name": "python",
   "nbconvert_exporter": "python",
   "pygments_lexer": "ipython3",
   "version": "3.10.6"
  }
 },
 "nbformat": 4,
 "nbformat_minor": 5
}
